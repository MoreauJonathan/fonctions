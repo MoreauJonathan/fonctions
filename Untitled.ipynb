{
 "cells": [
  {
   "cell_type": "code",
   "execution_count": 7,
   "metadata": {},
   "outputs": [
    {
     "name": "stdout",
     "output_type": "stream",
     "text": [
      "9.965784284662087\n"
     ]
    }
   ],
   "source": [
    "def polynome(x):\n",
    "    x2 = x*x\n",
    "    return x2 + x - 5\n",
    "polynome(5)\n",
    "\n",
    "from math import log\n",
    "def log_base(x, base = 10):\n",
    "    return log(x) / log(base)\n",
    "\n",
    "y = log_base(1000)\n",
    "z = log_base(1000, 2)\n",
    "y,z\n",
    "\n",
    "def calcul(x):\n",
    "    y = x**2\n",
    "    z = x + y\n",
    "    return z\n",
    "print(z)"
   ]
  },
  {
   "cell_type": "code",
   "execution_count": 8,
   "metadata": {},
   "outputs": [
    {
     "name": "stdout",
     "output_type": "stream",
     "text": [
      "intérieur de test 3\n",
      "après test 2\n"
     ]
    }
   ],
   "source": [
    "a = 2\n",
    "\n",
    "def test():\n",
    "    global a\n",
    "    a = 3\n",
    "    return print(\"intérieur de test\", a)\n",
    "\n",
    "test()\n",
    "print(\"après test\", a)"
   ]
  },
  {
   "cell_type": "code",
   "execution_count": 16,
   "metadata": {},
   "outputs": [
    {
     "name": "stdout",
     "output_type": "stream",
     "text": [
      "je m'appelle pour x= 10\n",
      "je m'appelle pour x= 5.0\n",
      "je m'appelle pour x= 2.5\n",
      "je ne m'appelle pas pour x= 1.25\n"
     ]
    },
    {
     "data": {
      "text/plain": [
       "4"
      ]
     },
     "execution_count": 16,
     "metadata": {},
     "output_type": "execute_result"
    }
   ],
   "source": [
    "def recursive(x):\n",
    "    if x / 2 < 1:\n",
    "        print(\"je ne m'appelle pas pour x=\", x)\n",
    "        return 1\n",
    "    else:\n",
    "        print(\"je m'appelle pour x=\", x)\n",
    "        return recursive (x/2) +1\n",
    "recursive(10)"
   ]
  },
  {
   "cell_type": "code",
   "execution_count": 20,
   "metadata": {},
   "outputs": [
    {
     "name": "stdout",
     "output_type": "stream",
     "text": [
      "d u   p\n",
      "['du p', 'se faisons table r', 'e']\n",
      "['du', 'passe', 'faisons', 'table', 'rase']\n"
     ]
    }
   ],
   "source": [
    "s1 = \"du passe faisons table rase\"\n",
    "l1 = [i for i in s1]\n",
    "l2 = s1.split(\"as\")\n",
    "l3 = s1.split()\n",
    "\n",
    "print(l1[0], l1[1], l1[2], l1[3])\n",
    "print(l2)\n",
    "print(l3)"
   ]
  },
  {
   "cell_type": "code",
   "execution_count": 21,
   "metadata": {},
   "outputs": [
    {
     "name": "stdout",
     "output_type": "stream",
     "text": [
      "Hello W\n",
      "Du passe faisons table rase\n"
     ]
    }
   ],
   "source": [
    "l1 = ['H', 'e', 'l', 'l', 'o', ' ', 'W']\n",
    "l2 = ['Du', 'passe', 'faisons', 'table', 'rase']\n",
    "s1 = \"\".join(l1)\n",
    "s2 = \" \".join(l2)\n",
    "\n",
    "print(s1)\n",
    "print(s2)\n"
   ]
  },
  {
   "cell_type": "code",
   "execution_count": 22,
   "metadata": {},
   "outputs": [
    {
     "name": "stdout",
     "output_type": "stream",
     "text": [
      "faisons TABLE\n"
     ]
    }
   ],
   "source": [
    "s1 = \"Faisons table rase\"\n",
    "s2 = s1[:8].lower() + s1[8:13].upper()\n",
    "print(s2)"
   ]
  },
  {
   "cell_type": "code",
   "execution_count": 23,
   "metadata": {},
   "outputs": [
    {
     "name": "stdout",
     "output_type": "stream",
     "text": [
      "3\n"
     ]
    }
   ],
   "source": [
    "s1 = \"Ce texte contient deux fois le mot texte.\"\n",
    "print(s1.find('texte', 0))"
   ]
  },
  {
   "cell_type": "code",
   "execution_count": 24,
   "metadata": {},
   "outputs": [
    {
     "name": "stdout",
     "output_type": "stream",
     "text": [
      "35\n"
     ]
    }
   ],
   "source": [
    "print(s1.find('texte', 4))"
   ]
  },
  {
   "cell_type": "code",
   "execution_count": 25,
   "metadata": {},
   "outputs": [
    {
     "name": "stdout",
     "output_type": "stream",
     "text": [
      "-1\n"
     ]
    }
   ],
   "source": [
    "print(s1.find('texte', 36))"
   ]
  },
  {
   "cell_type": "code",
   "execution_count": 26,
   "metadata": {},
   "outputs": [
    {
     "name": "stdout",
     "output_type": "stream",
     "text": [
      "3\n",
      "35\n",
      "-1\n"
     ]
    }
   ],
   "source": [
    "s1 = \"Ce texte contient deux fois le mot texte.\"\n",
    "max = 0\n",
    "while max > -1:\n",
    "    max = s1.find('texte', max+1)\n",
    "    print(max)"
   ]
  },
  {
   "cell_type": "code",
   "execution_count": 33,
   "metadata": {},
   "outputs": [
    {
     "name": "stdout",
     "output_type": "stream",
     "text": [
      "Le prix est de $2.15 \n"
     ]
    }
   ],
   "source": [
    "s1 = \"Le prix est de deux euros.\"\n",
    "if 'euros' in s1:\n",
    "    i = s1.index('euros')\n",
    "    s2 = s1[:i-5] + '$' + s1[i-5:i]\n",
    "    j = s2.find('deux')\n",
    "    s3 = s2[:j] + '2.15' + s2[j+4:]\n",
    "    print(s3)"
   ]
  },
  {
   "cell_type": "code",
   "execution_count": 34,
   "metadata": {},
   "outputs": [
    {
     "name": "stdout",
     "output_type": "stream",
     "text": [
      "le prix est de $2.15\n"
     ]
    }
   ],
   "source": [
    "s1 = 'le prix est de deux euros'\n",
    "s2 = s1.replace('deux euros', '$2.15')\n",
    "print(s2)"
   ]
  },
  {
   "cell_type": "code",
   "execution_count": 35,
   "metadata": {},
   "outputs": [
    {
     "name": "stdout",
     "output_type": "stream",
     "text": [
      "nombre\n",
      "mot\n",
      "?\n"
     ]
    }
   ],
   "source": [
    "s = '300 seulement ?'\n",
    "l = s.split()\n",
    "for mot in l:\n",
    "    if mot.isalpha():\n",
    "        print('mot')\n",
    "    if mot.isnumeric():\n",
    "        print('nombre')\n",
    "    if not mot.isalnum():\n",
    "        print('?')"
   ]
  },
  {
   "cell_type": "code",
   "execution_count": 37,
   "metadata": {},
   "outputs": [
    {
     "name": "stdout",
     "output_type": "stream",
     "text": [
      "['Le', 'Argentine']\n",
      "['PIB', 'Argentine', 'baisse', 'depuis']\n"
     ]
    }
   ],
   "source": [
    "from  re import findall\n",
    "s = \"Le PIB de l'Argentine baisse depuis 3 ans\"\n",
    "l1 = findall('[A-Z][a-z]+', s)\n",
    "l2 = findall('[a-zA-Z]*[iI][a-zA-Z]*', s)\n",
    "print(l1)\n",
    "print(l2)"
   ]
  },
  {
   "cell_type": "code",
   "execution_count": 39,
   "metadata": {},
   "outputs": [
    {
     "name": "stdout",
     "output_type": "stream",
     "text": [
      "['0678828383', '09.34.67.12.11', '03 11 23 20 38', '03.11 23 2038']\n"
     ]
    }
   ],
   "source": [
    "from re import findall\n",
    "motif = '0[1-9](?:[\\s\\.]?[0-9]{2}){4}'\n",
    "n1 = \"0678828383\"\n",
    "n2 = \"09.34.67.12.11\"\n",
    "n3 = \"03 11 23 20 38\"\n",
    "n4 = \"03 11 23 20,\"\n",
    "n5 = \"03.11 23 2038,\"\n",
    "n6 = \"03-23-20-20-38\"\n",
    "s = n1+n2+n3+n4+n5+n6\n",
    "print(findall(motif, s))"
   ]
  },
  {
   "cell_type": "code",
   "execution_count": 41,
   "metadata": {},
   "outputs": [
    {
     "name": "stdout",
     "output_type": "stream",
     "text": [
      "Un texte HTML<strong/>avec des balises et même<script type=\"text/javascript\">var i = 5;</script> du javascript dedans.\n"
     ]
    }
   ],
   "source": [
    "from re import sub\n",
    "s = 'Un texte <strong>HTML<strong/>avec des balises'\n",
    "s += ' et même<script type=\"text/javascript\">'\n",
    "s += 'var i = 5;</script> du javascript dedans.'\n",
    "s1 = sub('<[a-z]*>', '', s)\n",
    "print(s1)"
   ]
  },
  {
   "cell_type": "code",
   "execution_count": 46,
   "metadata": {},
   "outputs": [
    {
     "name": "stdout",
     "output_type": "stream",
     "text": [
      "Un texte  du javascript dedans.\n",
      "Un texte HTML avec des balises et même var i = 5; du javascript dedans.\n",
      "Un texte HTML avec des balises et même var i = 5; du javascript dedans.\n"
     ]
    }
   ],
   "source": [
    "from re import sub\n",
    "s = 'Un texte <strong>HTML<strong/> avec des balises'\n",
    "s += ' et même<script type=\"text/javascript\">'\n",
    "s += ' var i = 5;</script> du javascript dedans.'\n",
    "s1 = sub('<.*>', '', s)\n",
    "s2 = sub('<[a-z\\\\/\"=\\s]*>', '', s)\n",
    "s3 = sub('<[^>]*>', '', s)\n",
    "print(s1)\n",
    "print(s2)\n",
    "print(s3)"
   ]
  },
  {
   "cell_type": "markdown",
   "metadata": {},
   "source": [
    "#Exercice:\n",
    "#Ecrire une fonction hascap(s) qui renvoie tous les mots de la chaîne s commençant par une majuscule.\n",
    "#Pour se faire utiliser la fonction ord() pour obtenir le code ASCII des lettres\n",
    "#(Les lettres majuscules ont un code allant de 65 à 90).\n",
    "\n",
    "s = 'Le PIB de l'Argentine baisse depuis 3 ans'\n",
    "\n",
    "def hascap(s):\n",
    "    if ord(s)= \n",
    "\n",
    "\n",
    "#2. Proposer une fonction inflation(s) qui va doubler la valeur de tous les nombres dans la chaîne s.\n",
    "#Exemple:\"Le prix est de 27 euros\" devient \"Le prix est de 54 euros\".\n",
    "#Utiliser la fonction enumerate() pour lancer une boucle for (Taper dans Google\"enumerate boucle for\".)"
   ]
  },
  {
   "cell_type": "code",
   "execution_count": 71,
   "metadata": {},
   "outputs": [
    {
     "name": "stdout",
     "output_type": "stream",
     "text": [
      "Le\n",
      "PIB\n"
     ]
    }
   ],
   "source": [
    "#Exercice:\n",
    "#Ecrire une fonction hascap(s) qui renvoie tous les mots de la chaîne s commençant par une majuscule.\n",
    "#Pour se faire utiliser la fonction ord() pour obtenir le code ASCII des lettres\n",
    "#(Les lettres majuscules ont un code allant de 65 à 90).\n",
    "\n",
    "s = \"Le PIB de l'Argentine baisse depuis 3 ans\"\n",
    "l = s.split()\n",
    "\n",
    "def hascap(c):\n",
    "    for mot in c:\n",
    "        if ord(mot[0])>=65 and ord(mot[0])<=91:\n",
    "            print(mot)\n",
    "hascap(l)\n",
    "            "
   ]
  },
  {
   "cell_type": "code",
   "execution_count": 6,
   "metadata": {},
   "outputs": [
    {
     "name": "stdout",
     "output_type": "stream",
     "text": [
      "54\n",
      "[\"j'ai\", '30', 'ans']\n",
      "j'ai 60 ans\n"
     ]
    }
   ],
   "source": [
    "#2. Proposer une fonction inflation(s) qui va doubler la valeur de tous les nombres dans la chaîne s.\n",
    "#Exemple:\"Le prix est de 27 euros\" devient \"Le prix est de 54 euros\".\n",
    "#Utiliser la fonction enumerate() pour lancer une boucle for (Taper dans Google\"enumerate boucle for\".)\n",
    "\n",
    "s = \"Le prix est de 27 euros\"\n",
    "L = s.split()\n",
    "\n",
    "def inflation(s):\n",
    "    for position,mot in enumerate(L):\n",
    "        if mot.isnumeric():\n",
    "            double = int(mot)*2\n",
    "            print(double)\n",
    "            \n",
    "inflation(s)\n"
   ]
  },
  {
   "cell_type": "code",
   "execution_count": 8,
   "metadata": {},
   "outputs": [
    {
     "name": "stdout",
     "output_type": "stream",
     "text": [
      "['Le', 'prix', 'est', 'de', '27', 'euros']\n",
      "Le prix est de 54 euros\n"
     ]
    }
   ],
   "source": [
    "#correction\n",
    "\n",
    "s = \"Le prix est de 27 euros\" \n",
    "def inflation(s):\n",
    "\n",
    "    split_s = s.split()\n",
    "    print(split_s)\n",
    "    for i,j in enumerate(split_s):\n",
    "        if j.isnumeric():\n",
    "            split_s[i] = str(int(j)*2)\n",
    "    result = \" \".join(split_s)\n",
    "    return print(result)\n",
    "\n",
    "inflation(s)"
   ]
  },
  {
   "cell_type": "code",
   "execution_count": 39,
   "metadata": {},
   "outputs": [
    {
     "name": "stdout",
     "output_type": "stream",
     "text": [
      "['Onze ans déjà que cela ', 'passe vite Vous vous ', 'étiez servis simplement ', 'de vos armes la mort ', 'n‘éblouit pas les yeux ', 'des partisans Vous aviez ', 'vos portraits sur les ', 'murs de nos villes ']\n"
     ]
    }
   ],
   "source": [
    "#3.Proposer une fonction lignes qui à partir d’une longue chaîne s (>100caractères) renvoie une liste de chaîne \n",
    "#de caractères contenant chacun 24 caractères maximum et terminant par un espace.\n",
    "\n",
    "s = \"Onze ans déjà que cela passe vite Vous vous étiez servis simplement de vos armes la   mort n‘éblouit pas les yeux des partisans Vous aviez vos portraits sur les murs de nos villes\"\n",
    "def truc(s):\n",
    "    \n",
    "    Listemot = s.split()\n",
    "    lignes = \"\"\n",
    "    liste = []\n",
    "    for mot in Listemot:\n",
    "        if len(lignes) + len(mot)>24:\n",
    "        \n",
    "            liste.append(lignes)\n",
    "            lignes = mot+ \" \"\n",
    "        else:\n",
    "            lignes += mot+ \" \"\n",
    "    liste.append(lignes)\n",
    "    return liste\n",
    "  \n",
    "print(truc(s))"
   ]
  },
  {
   "cell_type": "code",
   "execution_count": 27,
   "metadata": {},
   "outputs": [
    {
     "name": "stdout",
     "output_type": "stream",
     "text": [
      "['2', '6.50']\n"
     ]
    }
   ],
   "source": [
    "#4.Proposer un programme qui renvoie la liste de tous les nombres (y compris décimaux et négatifs) d’une chaîne \n",
    "#de caractères.A tester sur la chaîne : « Les 2 maquereaux valent 6.50 euros ».\n",
    "\n",
    "from re import findall\n",
    "motif = '[\\d.,]*\\d+'\n",
    "s = \"Les 2 maquereaux valent 6.50 euros\"\n",
    "print(findall(motif, s))"
   ]
  },
  {
   "cell_type": "code",
   "execution_count": 54,
   "metadata": {},
   "outputs": [
    {
     "name": "stdout",
     "output_type": "stream",
     "text": [
      "3, -60\n"
     ]
    }
   ],
   "source": [
    "#5.Proposer une fonction arrondi(s) qui dans la chaîne s troncature tous les nombres décimaux. On autorise les \n",
    "#nombres négatifs.\n",
    "#Pour se faire, vous avez la possibilité d’utiliser :\n",
    "#des () pour désigner des blocs de données dans l’expression rationnelle.\n",
    "#pour remplacer chacun des blocs l’expression est r’\\1_\\2_’\n",
    "\n",
    "from re import sub\n",
    "motif = '[\\.\\,]+\\d+'\n",
    "s = \"3.15, -60.85\"\n",
    "print(sub(motif,\"\",s))\n"
   ]
  }
 ],
 "metadata": {
  "kernelspec": {
   "display_name": "Python 3",
   "language": "python",
   "name": "python3"
  },
  "language_info": {
   "codemirror_mode": {
    "name": "ipython",
    "version": 3
   },
   "file_extension": ".py",
   "mimetype": "text/x-python",
   "name": "python",
   "nbconvert_exporter": "python",
   "pygments_lexer": "ipython3",
   "version": "3.7.6"
  }
 },
 "nbformat": 4,
 "nbformat_minor": 4
}
